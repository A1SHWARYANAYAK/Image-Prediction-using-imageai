{
  "nbformat": 4,
  "nbformat_minor": 0,
  "metadata": {
    "colab": {
      "name": "Brain.ipynb",
      "provenance": [],
      "authorship_tag": "ABX9TyN1inycf0y44nS6I3T8UXgm",
      "include_colab_link": true
    },
    "kernelspec": {
      "name": "python3",
      "display_name": "Python 3"
    }
  },
  "cells": [
    {
      "cell_type": "markdown",
      "metadata": {
        "id": "view-in-github",
        "colab_type": "text"
      },
      "source": [
        "<a href=\"https://colab.research.google.com/github/A1SHWARYANAYAK/Image-Prediction-using-imageai/blob/master/Brain.ipynb\" target=\"_parent\"><img src=\"https://colab.research.google.com/assets/colab-badge.svg\" alt=\"Open In Colab\"/></a>"
      ]
    },
    {
      "cell_type": "code",
      "metadata": {
        "id": "TYVnH8N3x1nm",
        "colab_type": "code",
        "colab": {
          "base_uri": "https://localhost:8080/",
          "height": 34
        },
        "outputId": "f67382b2-f9bf-42c4-b3cb-dabd61604182"
      },
      "source": [
        "import tensorflow as tf\n",
        "print(\"TF version:\", tf.__version__)"
      ],
      "execution_count": null,
      "outputs": [
        {
          "output_type": "stream",
          "text": [
            "TF version: 2.2.0\n"
          ],
          "name": "stdout"
        }
      ]
    },
    {
      "cell_type": "code",
      "metadata": {
        "id": "6rYjfvXS2gup",
        "colab_type": "code",
        "colab": {
          "base_uri": "https://localhost:8080/",
          "height": 34
        },
        "outputId": "ccccbeab-0315-4ee8-a37c-bdff02287bbf"
      },
      "source": [
        "from google.colab import drive\n",
        "drive.mount('/content/drive')"
      ],
      "execution_count": null,
      "outputs": [
        {
          "output_type": "stream",
          "text": [
            "Drive already mounted at /content/drive; to attempt to forcibly remount, call drive.mount(\"/content/drive\", force_remount=True).\n"
          ],
          "name": "stdout"
        }
      ]
    },
    {
      "cell_type": "code",
      "metadata": {
        "id": "34PWZcQC2j1t",
        "colab_type": "code",
        "colab": {
          "base_uri": "https://localhost:8080/",
          "height": 170
        },
        "outputId": "4604eea5-0dcf-45d5-ba80-24677a0eaea9"
      },
      "source": [
        "pip install keras opencv-python"
      ],
      "execution_count": null,
      "outputs": [
        {
          "output_type": "stream",
          "text": [
            "Requirement already satisfied: keras in /usr/local/lib/python3.6/dist-packages (2.3.1)\n",
            "Requirement already satisfied: opencv-python in /usr/local/lib/python3.6/dist-packages (4.1.2.30)\n",
            "Requirement already satisfied: h5py in /usr/local/lib/python3.6/dist-packages (from keras) (2.10.0)\n",
            "Requirement already satisfied: scipy>=0.14 in /usr/local/lib/python3.6/dist-packages (from keras) (1.4.1)\n",
            "Requirement already satisfied: pyyaml in /usr/local/lib/python3.6/dist-packages (from keras) (3.13)\n",
            "Requirement already satisfied: six>=1.9.0 in /usr/local/lib/python3.6/dist-packages (from keras) (1.12.0)\n",
            "Requirement already satisfied: keras-applications>=1.0.6 in /usr/local/lib/python3.6/dist-packages (from keras) (1.0.8)\n",
            "Requirement already satisfied: keras-preprocessing>=1.0.5 in /usr/local/lib/python3.6/dist-packages (from keras) (1.1.2)\n",
            "Requirement already satisfied: numpy>=1.9.1 in /usr/local/lib/python3.6/dist-packages (from keras) (1.18.5)\n"
          ],
          "name": "stdout"
        }
      ]
    },
    {
      "cell_type": "code",
      "metadata": {
        "id": "d4Z1XJhb3GXR",
        "colab_type": "code",
        "colab": {
          "base_uri": "https://localhost:8080/",
          "height": 224
        },
        "outputId": "ba23c0ea-a88b-4486-c9b6-ad53ed282b70"
      },
      "source": [
        "pip install imageai --upgrade"
      ],
      "execution_count": null,
      "outputs": [
        {
          "output_type": "stream",
          "text": [
            "Requirement already up-to-date: imageai in /usr/local/lib/python3.6/dist-packages (2.1.5)\n",
            "Requirement already satisfied, skipping upgrade: numpy in /usr/local/lib/python3.6/dist-packages (from imageai) (1.18.5)\n",
            "Requirement already satisfied, skipping upgrade: h5py in /usr/local/lib/python3.6/dist-packages (from imageai) (2.10.0)\n",
            "Requirement already satisfied, skipping upgrade: scipy in /usr/local/lib/python3.6/dist-packages (from imageai) (1.4.1)\n",
            "Requirement already satisfied, skipping upgrade: pillow in /usr/local/lib/python3.6/dist-packages (from imageai) (7.0.0)\n",
            "Requirement already satisfied, skipping upgrade: matplotlib in /usr/local/lib/python3.6/dist-packages (from imageai) (3.2.2)\n",
            "Requirement already satisfied, skipping upgrade: six in /usr/local/lib/python3.6/dist-packages (from h5py->imageai) (1.12.0)\n",
            "Requirement already satisfied, skipping upgrade: pyparsing!=2.0.4,!=2.1.2,!=2.1.6,>=2.0.1 in /usr/local/lib/python3.6/dist-packages (from matplotlib->imageai) (2.4.7)\n",
            "Requirement already satisfied, skipping upgrade: kiwisolver>=1.0.1 in /usr/local/lib/python3.6/dist-packages (from matplotlib->imageai) (1.2.0)\n",
            "Requirement already satisfied, skipping upgrade: cycler>=0.10 in /usr/local/lib/python3.6/dist-packages (from matplotlib->imageai) (0.10.0)\n",
            "Requirement already satisfied, skipping upgrade: python-dateutil>=2.1 in /usr/local/lib/python3.6/dist-packages (from matplotlib->imageai) (2.8.1)\n"
          ],
          "name": "stdout"
        }
      ]
    },
    {
      "cell_type": "code",
      "metadata": {
        "id": "vlITCqIA3ZTj",
        "colab_type": "code",
        "colab": {
          "base_uri": "https://localhost:8080/",
          "height": 102
        },
        "outputId": "6a65fb33-9f57-4b22-ea1b-d69ed038dd1a"
      },
      "source": [
        "from imageai.Prediction import ImagePrediction\n",
        "import os \n",
        "execution_path= os.getcwd() #using os we will import images from the current working directory\n",
        "\n",
        "prediction = ImagePrediction()\n",
        "prediction.setModelTypeAsSqueezeNet()\n",
        "prediction.setModelPath(os.path.join(execution_path, \"squeezenet_weights_tf_dim_ordering_tf_kernels.h5\"))\n",
        "prediction.loadModel()\n",
        "\n",
        "predictions, probabilities = prediction.predictImage(os.path.join(execution_path, \"giraffe.jpg\"), result_count=5 )  #resultcount= how many predictions we want the model to give us.\n",
        "for eachPrediction, eachProbability in zip(predictions, probabilities):\n",
        "    print(eachPrediction , \" : \" , eachProbability)"
      ],
      "execution_count": null,
      "outputs": [
        {
          "output_type": "stream",
          "text": [
            "ruffed_grouse  :  28.505706787109375\n",
            "prairie_chicken  :  10.893968492746353\n",
            "cheetah  :  10.378871858119965\n",
            "German_short-haired_pointer  :  7.698049396276474\n",
            "partridge  :  6.035138666629791\n"
          ],
          "name": "stdout"
        }
      ]
    },
    {
      "cell_type": "code",
      "metadata": {
        "id": "_k-lX3_N4cka",
        "colab_type": "code",
        "colab": {
          "base_uri": "https://localhost:8080/",
          "height": 102
        },
        "outputId": "77423b36-fc2b-4d7b-ae77-8b3c3670c9eb"
      },
      "source": [
        "from imageai.Prediction import ImagePrediction\n",
        "import os \n",
        "execution_path= os.getcwd() #using os we will import images from the current working directory\n",
        "\n",
        "prediction = ImagePrediction()\n",
        "prediction.setModelTypeAsSqueezeNet()\n",
        "prediction.setModelPath(os.path.join(execution_path, \"squeezenet_weights_tf_dim_ordering_tf_kernels.h5\"))\n",
        "prediction.loadModel()\n",
        "\n",
        "predictions, probabilities = prediction.predictImage(os.path.join(execution_path, \"godzilla.jpg\"), result_count=5 )  #resultcount= how many predictions we want the model to give us.\n",
        "for eachPrediction, eachProbability in zip(predictions, probabilities):\n",
        "    print(eachPrediction , \" : \" , eachProbability)"
      ],
      "execution_count": null,
      "outputs": [
        {
          "output_type": "stream",
          "text": [
            "American_alligator  :  46.128663420677185\n",
            "common_iguana  :  18.39665323495865\n",
            "curly-coated_retriever  :  11.290416866540909\n",
            "Irish_water_spaniel  :  5.954762548208237\n",
            "Kerry_blue_terrier  :  5.187886208295822\n"
          ],
          "name": "stdout"
        }
      ]
    },
    {
      "cell_type": "code",
      "metadata": {
        "id": "c0M2rCFX-nqX",
        "colab_type": "code",
        "colab": {
          "base_uri": "https://localhost:8080/",
          "height": 102
        },
        "outputId": "897094f7-0563-4d99-fd82-4ed89a101159"
      },
      "source": [
        "from imageai.Prediction import ImagePrediction\n",
        "import os \n",
        "execution_path= os.getcwd() #using os we will import images from the current working directory\n",
        "\n",
        "prediction = ImagePrediction()\n",
        "prediction.setModelTypeAsSqueezeNet()\n",
        "prediction.setModelPath(os.path.join(execution_path, \"squeezenet_weights_tf_dim_ordering_tf_kernels.h5\"))\n",
        "prediction.loadModel()\n",
        "\n",
        "predictions, probabilities = prediction.predictImage(os.path.join(execution_path, \"house.jpg\"), result_count=5 )  #resultcount= how many predictions we want the model to give us.\n",
        "for eachPrediction, eachProbability in zip(predictions, probabilities):\n",
        "    print(eachPrediction , \" : \" , eachProbability)"
      ],
      "execution_count": null,
      "outputs": [
        {
          "output_type": "stream",
          "text": [
            "boathouse  :  58.74958038330078\n",
            "church  :  31.239837408065796\n",
            "bell_cote  :  6.444504112005234\n",
            "cinema  :  0.8452978916466236\n",
            "dome  :  0.6799003574997187\n"
          ],
          "name": "stdout"
        }
      ]
    }
  ]
}